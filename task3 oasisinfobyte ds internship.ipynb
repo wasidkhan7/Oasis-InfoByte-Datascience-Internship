{
 "cells": [
  {
   "cell_type": "markdown",
   "id": "ab409702",
   "metadata": {},
   "source": [
    "# TASK 3 OASIS INFOBYTE DS INTERNSHIP"
   ]
  },
  {
   "cell_type": "markdown",
   "id": "13d233d0",
   "metadata": {},
   "source": [
    "The price of a car depends on a lot of factors like the goodwill of the brand of the car, features of the car, horsepower and the mileage it gives and many more. Car price prediction is one of the major research areas in machine learning. So if you want to learn how to train a car price prediction model"
   ]
  },
  {
   "cell_type": "code",
   "execution_count": 28,
   "id": "934cc786",
   "metadata": {},
   "outputs": [],
   "source": [
    "import numpy as np\n",
    "import pandas as pd\n",
    "import seaborn as sns\n",
    "import matplotlib.pyplot as plt\n",
    "from sklearn.preprocessing import LabelEncoder\n",
    "from sklearn.model_selection import train_test_split\n",
    "from sklearn.linear_model import LinearRegression\n",
    "from sklearn.metrics import mean_absolute_error, mean_squared_error, r2_score\n"
   ]
  },
  {
   "cell_type": "code",
   "execution_count": 2,
   "id": "0dfa517c",
   "metadata": {},
   "outputs": [],
   "source": [
    "df=pd.read_csv(\"C:/Users/Dubai Laptop/carsprice dataset.csv\")"
   ]
  },
  {
   "cell_type": "code",
   "execution_count": 3,
   "id": "ee48343b",
   "metadata": {},
   "outputs": [
    {
     "data": {
      "text/html": [
       "<div>\n",
       "<style scoped>\n",
       "    .dataframe tbody tr th:only-of-type {\n",
       "        vertical-align: middle;\n",
       "    }\n",
       "\n",
       "    .dataframe tbody tr th {\n",
       "        vertical-align: top;\n",
       "    }\n",
       "\n",
       "    .dataframe thead th {\n",
       "        text-align: right;\n",
       "    }\n",
       "</style>\n",
       "<table border=\"1\" class=\"dataframe\">\n",
       "  <thead>\n",
       "    <tr style=\"text-align: right;\">\n",
       "      <th></th>\n",
       "      <th>Car_Name</th>\n",
       "      <th>Year</th>\n",
       "      <th>Selling_Price</th>\n",
       "      <th>Present_Price</th>\n",
       "      <th>Driven_kms</th>\n",
       "      <th>Fuel_Type</th>\n",
       "      <th>Selling_type</th>\n",
       "      <th>Transmission</th>\n",
       "      <th>Owner</th>\n",
       "    </tr>\n",
       "  </thead>\n",
       "  <tbody>\n",
       "    <tr>\n",
       "      <th>0</th>\n",
       "      <td>ritz</td>\n",
       "      <td>2014</td>\n",
       "      <td>3.35</td>\n",
       "      <td>5.59</td>\n",
       "      <td>27000</td>\n",
       "      <td>Petrol</td>\n",
       "      <td>Dealer</td>\n",
       "      <td>Manual</td>\n",
       "      <td>0</td>\n",
       "    </tr>\n",
       "    <tr>\n",
       "      <th>1</th>\n",
       "      <td>sx4</td>\n",
       "      <td>2013</td>\n",
       "      <td>4.75</td>\n",
       "      <td>9.54</td>\n",
       "      <td>43000</td>\n",
       "      <td>Diesel</td>\n",
       "      <td>Dealer</td>\n",
       "      <td>Manual</td>\n",
       "      <td>0</td>\n",
       "    </tr>\n",
       "    <tr>\n",
       "      <th>2</th>\n",
       "      <td>ciaz</td>\n",
       "      <td>2017</td>\n",
       "      <td>7.25</td>\n",
       "      <td>9.85</td>\n",
       "      <td>6900</td>\n",
       "      <td>Petrol</td>\n",
       "      <td>Dealer</td>\n",
       "      <td>Manual</td>\n",
       "      <td>0</td>\n",
       "    </tr>\n",
       "    <tr>\n",
       "      <th>3</th>\n",
       "      <td>wagon r</td>\n",
       "      <td>2011</td>\n",
       "      <td>2.85</td>\n",
       "      <td>4.15</td>\n",
       "      <td>5200</td>\n",
       "      <td>Petrol</td>\n",
       "      <td>Dealer</td>\n",
       "      <td>Manual</td>\n",
       "      <td>0</td>\n",
       "    </tr>\n",
       "    <tr>\n",
       "      <th>4</th>\n",
       "      <td>swift</td>\n",
       "      <td>2014</td>\n",
       "      <td>4.60</td>\n",
       "      <td>6.87</td>\n",
       "      <td>42450</td>\n",
       "      <td>Diesel</td>\n",
       "      <td>Dealer</td>\n",
       "      <td>Manual</td>\n",
       "      <td>0</td>\n",
       "    </tr>\n",
       "    <tr>\n",
       "      <th>5</th>\n",
       "      <td>vitara brezza</td>\n",
       "      <td>2018</td>\n",
       "      <td>9.25</td>\n",
       "      <td>9.83</td>\n",
       "      <td>2071</td>\n",
       "      <td>Diesel</td>\n",
       "      <td>Dealer</td>\n",
       "      <td>Manual</td>\n",
       "      <td>0</td>\n",
       "    </tr>\n",
       "    <tr>\n",
       "      <th>6</th>\n",
       "      <td>ciaz</td>\n",
       "      <td>2015</td>\n",
       "      <td>6.75</td>\n",
       "      <td>8.12</td>\n",
       "      <td>18796</td>\n",
       "      <td>Petrol</td>\n",
       "      <td>Dealer</td>\n",
       "      <td>Manual</td>\n",
       "      <td>0</td>\n",
       "    </tr>\n",
       "    <tr>\n",
       "      <th>7</th>\n",
       "      <td>s cross</td>\n",
       "      <td>2015</td>\n",
       "      <td>6.50</td>\n",
       "      <td>8.61</td>\n",
       "      <td>33429</td>\n",
       "      <td>Diesel</td>\n",
       "      <td>Dealer</td>\n",
       "      <td>Manual</td>\n",
       "      <td>0</td>\n",
       "    </tr>\n",
       "    <tr>\n",
       "      <th>8</th>\n",
       "      <td>ciaz</td>\n",
       "      <td>2016</td>\n",
       "      <td>8.75</td>\n",
       "      <td>8.89</td>\n",
       "      <td>20273</td>\n",
       "      <td>Diesel</td>\n",
       "      <td>Dealer</td>\n",
       "      <td>Manual</td>\n",
       "      <td>0</td>\n",
       "    </tr>\n",
       "    <tr>\n",
       "      <th>9</th>\n",
       "      <td>ciaz</td>\n",
       "      <td>2015</td>\n",
       "      <td>7.45</td>\n",
       "      <td>8.92</td>\n",
       "      <td>42367</td>\n",
       "      <td>Diesel</td>\n",
       "      <td>Dealer</td>\n",
       "      <td>Manual</td>\n",
       "      <td>0</td>\n",
       "    </tr>\n",
       "  </tbody>\n",
       "</table>\n",
       "</div>"
      ],
      "text/plain": [
       "        Car_Name  Year  Selling_Price  Present_Price  Driven_kms Fuel_Type  \\\n",
       "0           ritz  2014           3.35           5.59       27000    Petrol   \n",
       "1            sx4  2013           4.75           9.54       43000    Diesel   \n",
       "2           ciaz  2017           7.25           9.85        6900    Petrol   \n",
       "3        wagon r  2011           2.85           4.15        5200    Petrol   \n",
       "4          swift  2014           4.60           6.87       42450    Diesel   \n",
       "5  vitara brezza  2018           9.25           9.83        2071    Diesel   \n",
       "6           ciaz  2015           6.75           8.12       18796    Petrol   \n",
       "7        s cross  2015           6.50           8.61       33429    Diesel   \n",
       "8           ciaz  2016           8.75           8.89       20273    Diesel   \n",
       "9           ciaz  2015           7.45           8.92       42367    Diesel   \n",
       "\n",
       "  Selling_type Transmission  Owner  \n",
       "0       Dealer       Manual      0  \n",
       "1       Dealer       Manual      0  \n",
       "2       Dealer       Manual      0  \n",
       "3       Dealer       Manual      0  \n",
       "4       Dealer       Manual      0  \n",
       "5       Dealer       Manual      0  \n",
       "6       Dealer       Manual      0  \n",
       "7       Dealer       Manual      0  \n",
       "8       Dealer       Manual      0  \n",
       "9       Dealer       Manual      0  "
      ]
     },
     "execution_count": 3,
     "metadata": {},
     "output_type": "execute_result"
    }
   ],
   "source": [
    "df.head(10)"
   ]
  },
  {
   "cell_type": "code",
   "execution_count": 4,
   "id": "b85d4cae",
   "metadata": {},
   "outputs": [
    {
     "data": {
      "text/plain": [
       "Car_Name         0\n",
       "Year             0\n",
       "Selling_Price    0\n",
       "Present_Price    0\n",
       "Driven_kms       0\n",
       "Fuel_Type        0\n",
       "Selling_type     0\n",
       "Transmission     0\n",
       "Owner            0\n",
       "dtype: int64"
      ]
     },
     "execution_count": 4,
     "metadata": {},
     "output_type": "execute_result"
    }
   ],
   "source": [
    "df.isnull().sum()"
   ]
  },
  {
   "cell_type": "code",
   "execution_count": 5,
   "id": "2e319ce8",
   "metadata": {},
   "outputs": [
    {
     "data": {
      "text/html": [
       "<div>\n",
       "<style scoped>\n",
       "    .dataframe tbody tr th:only-of-type {\n",
       "        vertical-align: middle;\n",
       "    }\n",
       "\n",
       "    .dataframe tbody tr th {\n",
       "        vertical-align: top;\n",
       "    }\n",
       "\n",
       "    .dataframe thead th {\n",
       "        text-align: right;\n",
       "    }\n",
       "</style>\n",
       "<table border=\"1\" class=\"dataframe\">\n",
       "  <thead>\n",
       "    <tr style=\"text-align: right;\">\n",
       "      <th></th>\n",
       "      <th>Year</th>\n",
       "      <th>Selling_Price</th>\n",
       "      <th>Present_Price</th>\n",
       "      <th>Driven_kms</th>\n",
       "      <th>Owner</th>\n",
       "    </tr>\n",
       "  </thead>\n",
       "  <tbody>\n",
       "    <tr>\n",
       "      <th>count</th>\n",
       "      <td>301.000000</td>\n",
       "      <td>301.000000</td>\n",
       "      <td>301.000000</td>\n",
       "      <td>301.000000</td>\n",
       "      <td>301.000000</td>\n",
       "    </tr>\n",
       "    <tr>\n",
       "      <th>mean</th>\n",
       "      <td>2013.627907</td>\n",
       "      <td>4.661296</td>\n",
       "      <td>7.628472</td>\n",
       "      <td>36947.205980</td>\n",
       "      <td>0.043189</td>\n",
       "    </tr>\n",
       "    <tr>\n",
       "      <th>std</th>\n",
       "      <td>2.891554</td>\n",
       "      <td>5.082812</td>\n",
       "      <td>8.642584</td>\n",
       "      <td>38886.883882</td>\n",
       "      <td>0.247915</td>\n",
       "    </tr>\n",
       "    <tr>\n",
       "      <th>min</th>\n",
       "      <td>2003.000000</td>\n",
       "      <td>0.100000</td>\n",
       "      <td>0.320000</td>\n",
       "      <td>500.000000</td>\n",
       "      <td>0.000000</td>\n",
       "    </tr>\n",
       "    <tr>\n",
       "      <th>25%</th>\n",
       "      <td>2012.000000</td>\n",
       "      <td>0.900000</td>\n",
       "      <td>1.200000</td>\n",
       "      <td>15000.000000</td>\n",
       "      <td>0.000000</td>\n",
       "    </tr>\n",
       "    <tr>\n",
       "      <th>50%</th>\n",
       "      <td>2014.000000</td>\n",
       "      <td>3.600000</td>\n",
       "      <td>6.400000</td>\n",
       "      <td>32000.000000</td>\n",
       "      <td>0.000000</td>\n",
       "    </tr>\n",
       "    <tr>\n",
       "      <th>75%</th>\n",
       "      <td>2016.000000</td>\n",
       "      <td>6.000000</td>\n",
       "      <td>9.900000</td>\n",
       "      <td>48767.000000</td>\n",
       "      <td>0.000000</td>\n",
       "    </tr>\n",
       "    <tr>\n",
       "      <th>max</th>\n",
       "      <td>2018.000000</td>\n",
       "      <td>35.000000</td>\n",
       "      <td>92.600000</td>\n",
       "      <td>500000.000000</td>\n",
       "      <td>3.000000</td>\n",
       "    </tr>\n",
       "  </tbody>\n",
       "</table>\n",
       "</div>"
      ],
      "text/plain": [
       "              Year  Selling_Price  Present_Price     Driven_kms       Owner\n",
       "count   301.000000     301.000000     301.000000     301.000000  301.000000\n",
       "mean   2013.627907       4.661296       7.628472   36947.205980    0.043189\n",
       "std       2.891554       5.082812       8.642584   38886.883882    0.247915\n",
       "min    2003.000000       0.100000       0.320000     500.000000    0.000000\n",
       "25%    2012.000000       0.900000       1.200000   15000.000000    0.000000\n",
       "50%    2014.000000       3.600000       6.400000   32000.000000    0.000000\n",
       "75%    2016.000000       6.000000       9.900000   48767.000000    0.000000\n",
       "max    2018.000000      35.000000      92.600000  500000.000000    3.000000"
      ]
     },
     "execution_count": 5,
     "metadata": {},
     "output_type": "execute_result"
    }
   ],
   "source": [
    "df.describe()"
   ]
  },
  {
   "cell_type": "code",
   "execution_count": 6,
   "id": "c7c36b5b",
   "metadata": {},
   "outputs": [
    {
     "data": {
      "text/html": [
       "<div>\n",
       "<style scoped>\n",
       "    .dataframe tbody tr th:only-of-type {\n",
       "        vertical-align: middle;\n",
       "    }\n",
       "\n",
       "    .dataframe tbody tr th {\n",
       "        vertical-align: top;\n",
       "    }\n",
       "\n",
       "    .dataframe thead th {\n",
       "        text-align: right;\n",
       "    }\n",
       "</style>\n",
       "<table border=\"1\" class=\"dataframe\">\n",
       "  <thead>\n",
       "    <tr style=\"text-align: right;\">\n",
       "      <th></th>\n",
       "      <th>Car_Name</th>\n",
       "      <th>Year</th>\n",
       "      <th>Selling_Price</th>\n",
       "      <th>Original_Price</th>\n",
       "      <th>Driven_kms</th>\n",
       "      <th>Fuel_Type</th>\n",
       "      <th>Selling_type</th>\n",
       "      <th>Transmission</th>\n",
       "      <th>Owner</th>\n",
       "    </tr>\n",
       "  </thead>\n",
       "  <tbody>\n",
       "    <tr>\n",
       "      <th>0</th>\n",
       "      <td>ritz</td>\n",
       "      <td>2014</td>\n",
       "      <td>3.35</td>\n",
       "      <td>5.59</td>\n",
       "      <td>27000</td>\n",
       "      <td>Petrol</td>\n",
       "      <td>Dealer</td>\n",
       "      <td>Manual</td>\n",
       "      <td>0</td>\n",
       "    </tr>\n",
       "    <tr>\n",
       "      <th>1</th>\n",
       "      <td>sx4</td>\n",
       "      <td>2013</td>\n",
       "      <td>4.75</td>\n",
       "      <td>9.54</td>\n",
       "      <td>43000</td>\n",
       "      <td>Diesel</td>\n",
       "      <td>Dealer</td>\n",
       "      <td>Manual</td>\n",
       "      <td>0</td>\n",
       "    </tr>\n",
       "    <tr>\n",
       "      <th>2</th>\n",
       "      <td>ciaz</td>\n",
       "      <td>2017</td>\n",
       "      <td>7.25</td>\n",
       "      <td>9.85</td>\n",
       "      <td>6900</td>\n",
       "      <td>Petrol</td>\n",
       "      <td>Dealer</td>\n",
       "      <td>Manual</td>\n",
       "      <td>0</td>\n",
       "    </tr>\n",
       "    <tr>\n",
       "      <th>3</th>\n",
       "      <td>wagon r</td>\n",
       "      <td>2011</td>\n",
       "      <td>2.85</td>\n",
       "      <td>4.15</td>\n",
       "      <td>5200</td>\n",
       "      <td>Petrol</td>\n",
       "      <td>Dealer</td>\n",
       "      <td>Manual</td>\n",
       "      <td>0</td>\n",
       "    </tr>\n",
       "    <tr>\n",
       "      <th>4</th>\n",
       "      <td>swift</td>\n",
       "      <td>2014</td>\n",
       "      <td>4.60</td>\n",
       "      <td>6.87</td>\n",
       "      <td>42450</td>\n",
       "      <td>Diesel</td>\n",
       "      <td>Dealer</td>\n",
       "      <td>Manual</td>\n",
       "      <td>0</td>\n",
       "    </tr>\n",
       "    <tr>\n",
       "      <th>5</th>\n",
       "      <td>vitara brezza</td>\n",
       "      <td>2018</td>\n",
       "      <td>9.25</td>\n",
       "      <td>9.83</td>\n",
       "      <td>2071</td>\n",
       "      <td>Diesel</td>\n",
       "      <td>Dealer</td>\n",
       "      <td>Manual</td>\n",
       "      <td>0</td>\n",
       "    </tr>\n",
       "    <tr>\n",
       "      <th>6</th>\n",
       "      <td>ciaz</td>\n",
       "      <td>2015</td>\n",
       "      <td>6.75</td>\n",
       "      <td>8.12</td>\n",
       "      <td>18796</td>\n",
       "      <td>Petrol</td>\n",
       "      <td>Dealer</td>\n",
       "      <td>Manual</td>\n",
       "      <td>0</td>\n",
       "    </tr>\n",
       "    <tr>\n",
       "      <th>7</th>\n",
       "      <td>s cross</td>\n",
       "      <td>2015</td>\n",
       "      <td>6.50</td>\n",
       "      <td>8.61</td>\n",
       "      <td>33429</td>\n",
       "      <td>Diesel</td>\n",
       "      <td>Dealer</td>\n",
       "      <td>Manual</td>\n",
       "      <td>0</td>\n",
       "    </tr>\n",
       "    <tr>\n",
       "      <th>8</th>\n",
       "      <td>ciaz</td>\n",
       "      <td>2016</td>\n",
       "      <td>8.75</td>\n",
       "      <td>8.89</td>\n",
       "      <td>20273</td>\n",
       "      <td>Diesel</td>\n",
       "      <td>Dealer</td>\n",
       "      <td>Manual</td>\n",
       "      <td>0</td>\n",
       "    </tr>\n",
       "    <tr>\n",
       "      <th>9</th>\n",
       "      <td>ciaz</td>\n",
       "      <td>2015</td>\n",
       "      <td>7.45</td>\n",
       "      <td>8.92</td>\n",
       "      <td>42367</td>\n",
       "      <td>Diesel</td>\n",
       "      <td>Dealer</td>\n",
       "      <td>Manual</td>\n",
       "      <td>0</td>\n",
       "    </tr>\n",
       "  </tbody>\n",
       "</table>\n",
       "</div>"
      ],
      "text/plain": [
       "        Car_Name  Year  Selling_Price  Original_Price  Driven_kms Fuel_Type  \\\n",
       "0           ritz  2014           3.35            5.59       27000    Petrol   \n",
       "1            sx4  2013           4.75            9.54       43000    Diesel   \n",
       "2           ciaz  2017           7.25            9.85        6900    Petrol   \n",
       "3        wagon r  2011           2.85            4.15        5200    Petrol   \n",
       "4          swift  2014           4.60            6.87       42450    Diesel   \n",
       "5  vitara brezza  2018           9.25            9.83        2071    Diesel   \n",
       "6           ciaz  2015           6.75            8.12       18796    Petrol   \n",
       "7        s cross  2015           6.50            8.61       33429    Diesel   \n",
       "8           ciaz  2016           8.75            8.89       20273    Diesel   \n",
       "9           ciaz  2015           7.45            8.92       42367    Diesel   \n",
       "\n",
       "  Selling_type Transmission  Owner  \n",
       "0       Dealer       Manual      0  \n",
       "1       Dealer       Manual      0  \n",
       "2       Dealer       Manual      0  \n",
       "3       Dealer       Manual      0  \n",
       "4       Dealer       Manual      0  \n",
       "5       Dealer       Manual      0  \n",
       "6       Dealer       Manual      0  \n",
       "7       Dealer       Manual      0  \n",
       "8       Dealer       Manual      0  \n",
       "9       Dealer       Manual      0  "
      ]
     },
     "execution_count": 6,
     "metadata": {},
     "output_type": "execute_result"
    }
   ],
   "source": [
    "df=df.rename(columns={\"Present_Price\":\"Original_Price\"})\n",
    "df.head(10)"
   ]
  },
  {
   "cell_type": "code",
   "execution_count": 7,
   "id": "5a33c280",
   "metadata": {},
   "outputs": [
    {
     "data": {
      "text/plain": [
       "(301, 9)"
      ]
     },
     "execution_count": 7,
     "metadata": {},
     "output_type": "execute_result"
    }
   ],
   "source": [
    "df.shape"
   ]
  },
  {
   "cell_type": "code",
   "execution_count": 8,
   "id": "1b1433e8",
   "metadata": {},
   "outputs": [
    {
     "data": {
      "text/plain": [
       "array(['ritz', 'sx4', 'ciaz', 'wagon r', 'swift', 'vitara brezza',\n",
       "       's cross', 'alto 800', 'ertiga', 'dzire', 'alto k10', 'ignis',\n",
       "       '800', 'baleno', 'omni', 'fortuner', 'innova', 'corolla altis',\n",
       "       'etios cross', 'etios g', 'etios liva', 'corolla', 'etios gd',\n",
       "       'camry', 'land cruiser', 'Royal Enfield Thunder 500',\n",
       "       'UM Renegade Mojave', 'KTM RC200', 'Bajaj Dominar 400',\n",
       "       'Royal Enfield Classic 350', 'KTM RC390', 'Hyosung GT250R',\n",
       "       'Royal Enfield Thunder 350', 'KTM 390 Duke ',\n",
       "       'Mahindra Mojo XT300', 'Bajaj Pulsar RS200',\n",
       "       'Royal Enfield Bullet 350', 'Royal Enfield Classic 500',\n",
       "       'Bajaj Avenger 220', 'Bajaj Avenger 150', 'Honda CB Hornet 160R',\n",
       "       'Yamaha FZ S V 2.0', 'Yamaha FZ 16', 'TVS Apache RTR 160',\n",
       "       'Bajaj Pulsar 150', 'Honda CBR 150', 'Hero Extreme',\n",
       "       'Bajaj Avenger 220 dtsi', 'Bajaj Avenger 150 street',\n",
       "       'Yamaha FZ  v 2.0', 'Bajaj Pulsar  NS 200', 'Bajaj Pulsar 220 F',\n",
       "       'TVS Apache RTR 180', 'Hero Passion X pro', 'Bajaj Pulsar NS 200',\n",
       "       'Yamaha Fazer ', 'Honda Activa 4G', 'TVS Sport ',\n",
       "       'Honda Dream Yuga ', 'Bajaj Avenger Street 220',\n",
       "       'Hero Splender iSmart', 'Activa 3g', 'Hero Passion Pro',\n",
       "       'Honda CB Trigger', 'Yamaha FZ S ', 'Bajaj Pulsar 135 LS',\n",
       "       'Activa 4g', 'Honda CB Unicorn', 'Hero Honda CBZ extreme',\n",
       "       'Honda Karizma', 'Honda Activa 125', 'TVS Jupyter',\n",
       "       'Hero Honda Passion Pro', 'Hero Splender Plus', 'Honda CB Shine',\n",
       "       'Bajaj Discover 100', 'Suzuki Access 125', 'TVS Wego',\n",
       "       'Honda CB twister', 'Hero Glamour', 'Hero Super Splendor',\n",
       "       'Bajaj Discover 125', 'Hero Hunk', 'Hero  Ignitor Disc',\n",
       "       'Hero  CBZ Xtreme', 'Bajaj  ct 100', 'i20', 'grand i10', 'i10',\n",
       "       'eon', 'xcent', 'elantra', 'creta', 'verna', 'city', 'brio',\n",
       "       'amaze', 'jazz'], dtype=object)"
      ]
     },
     "execution_count": 8,
     "metadata": {},
     "output_type": "execute_result"
    }
   ],
   "source": [
    "df['Car_Name'].unique()   #shows unique value"
   ]
  },
  {
   "cell_type": "code",
   "execution_count": 9,
   "id": "ae5f7bcf",
   "metadata": {},
   "outputs": [
    {
     "name": "stdout",
     "output_type": "stream",
     "text": [
      "<class 'pandas.core.frame.DataFrame'>\n",
      "RangeIndex: 301 entries, 0 to 300\n",
      "Data columns (total 9 columns):\n",
      " #   Column          Non-Null Count  Dtype  \n",
      "---  ------          --------------  -----  \n",
      " 0   Car_Name        301 non-null    object \n",
      " 1   Year            301 non-null    int64  \n",
      " 2   Selling_Price   301 non-null    float64\n",
      " 3   Original_Price  301 non-null    float64\n",
      " 4   Driven_kms      301 non-null    int64  \n",
      " 5   Fuel_Type       301 non-null    object \n",
      " 6   Selling_type    301 non-null    object \n",
      " 7   Transmission    301 non-null    object \n",
      " 8   Owner           301 non-null    int64  \n",
      "dtypes: float64(2), int64(3), object(4)\n",
      "memory usage: 21.3+ KB\n"
     ]
    }
   ],
   "source": [
    "df.info()"
   ]
  },
  {
   "cell_type": "code",
   "execution_count": null,
   "id": "a5cad877",
   "metadata": {},
   "outputs": [],
   "source": []
  },
  {
   "cell_type": "code",
   "execution_count": null,
   "id": "3ed85241",
   "metadata": {},
   "outputs": [],
   "source": []
  },
  {
   "cell_type": "code",
   "execution_count": null,
   "id": "fe36d892",
   "metadata": {},
   "outputs": [],
   "source": []
  },
  {
   "cell_type": "code",
   "execution_count": null,
   "id": "b855c3ef",
   "metadata": {},
   "outputs": [],
   "source": []
  },
  {
   "cell_type": "code",
   "execution_count": 10,
   "id": "48c9c62f",
   "metadata": {},
   "outputs": [
    {
     "data": {
      "text/html": [
       "<div>\n",
       "<style scoped>\n",
       "    .dataframe tbody tr th:only-of-type {\n",
       "        vertical-align: middle;\n",
       "    }\n",
       "\n",
       "    .dataframe tbody tr th {\n",
       "        vertical-align: top;\n",
       "    }\n",
       "\n",
       "    .dataframe thead th {\n",
       "        text-align: right;\n",
       "    }\n",
       "</style>\n",
       "<table border=\"1\" class=\"dataframe\">\n",
       "  <thead>\n",
       "    <tr style=\"text-align: right;\">\n",
       "      <th></th>\n",
       "      <th>Fuel_Type</th>\n",
       "      <th>Selling_type</th>\n",
       "      <th>Transmission</th>\n",
       "    </tr>\n",
       "  </thead>\n",
       "  <tbody>\n",
       "    <tr>\n",
       "      <th>0</th>\n",
       "      <td>Petrol</td>\n",
       "      <td>Dealer</td>\n",
       "      <td>Manual</td>\n",
       "    </tr>\n",
       "    <tr>\n",
       "      <th>1</th>\n",
       "      <td>Diesel</td>\n",
       "      <td>Dealer</td>\n",
       "      <td>Manual</td>\n",
       "    </tr>\n",
       "    <tr>\n",
       "      <th>2</th>\n",
       "      <td>Petrol</td>\n",
       "      <td>Dealer</td>\n",
       "      <td>Manual</td>\n",
       "    </tr>\n",
       "    <tr>\n",
       "      <th>3</th>\n",
       "      <td>Petrol</td>\n",
       "      <td>Dealer</td>\n",
       "      <td>Manual</td>\n",
       "    </tr>\n",
       "    <tr>\n",
       "      <th>4</th>\n",
       "      <td>Diesel</td>\n",
       "      <td>Dealer</td>\n",
       "      <td>Manual</td>\n",
       "    </tr>\n",
       "  </tbody>\n",
       "</table>\n",
       "</div>"
      ],
      "text/plain": [
       "  Fuel_Type Selling_type Transmission\n",
       "0    Petrol       Dealer       Manual\n",
       "1    Diesel       Dealer       Manual\n",
       "2    Petrol       Dealer       Manual\n",
       "3    Petrol       Dealer       Manual\n",
       "4    Diesel       Dealer       Manual"
      ]
     },
     "execution_count": 10,
     "metadata": {},
     "output_type": "execute_result"
    }
   ],
   "source": [
    " # separating catagorical varaibles from df\n",
    "    \n",
    "categ =df[[\"Fuel_Type\",\"Selling_type\",\"Transmission\"]]\n",
    "categ.head()"
   ]
  },
  {
   "cell_type": "code",
   "execution_count": null,
   "id": "b28cf6b2",
   "metadata": {},
   "outputs": [],
   "source": []
  },
  {
   "cell_type": "code",
   "execution_count": null,
   "id": "4bc562a0",
   "metadata": {},
   "outputs": [],
   "source": []
  },
  {
   "cell_type": "code",
   "execution_count": 11,
   "id": "54b97db5",
   "metadata": {},
   "outputs": [],
   "source": [
    "# Encoding categorical columns ('Fuel_Type', 'Selling_type', 'Transmission') using LabelEncoder\n",
    "# dealing with catagorical vairables \n",
    "label_encoder = LabelEncoder()\n",
    "\n",
    "df['Fuel_Type'] = label_encoder.fit_transform(df['Fuel_Type'])\n",
    "df['Selling_type'] = label_encoder.fit_transform(df['Selling_type'])\n",
    "df['Transmission'] = label_encoder.fit_transform(df['Transmission'])\n"
   ]
  },
  {
   "cell_type": "code",
   "execution_count": 12,
   "id": "776a2458",
   "metadata": {},
   "outputs": [
    {
     "data": {
      "text/html": [
       "<div>\n",
       "<style scoped>\n",
       "    .dataframe tbody tr th:only-of-type {\n",
       "        vertical-align: middle;\n",
       "    }\n",
       "\n",
       "    .dataframe tbody tr th {\n",
       "        vertical-align: top;\n",
       "    }\n",
       "\n",
       "    .dataframe thead th {\n",
       "        text-align: right;\n",
       "    }\n",
       "</style>\n",
       "<table border=\"1\" class=\"dataframe\">\n",
       "  <thead>\n",
       "    <tr style=\"text-align: right;\">\n",
       "      <th></th>\n",
       "      <th>Car_Name</th>\n",
       "      <th>Year</th>\n",
       "      <th>Selling_Price</th>\n",
       "      <th>Original_Price</th>\n",
       "      <th>Driven_kms</th>\n",
       "      <th>Fuel_Type</th>\n",
       "      <th>Selling_type</th>\n",
       "      <th>Transmission</th>\n",
       "      <th>Owner</th>\n",
       "    </tr>\n",
       "  </thead>\n",
       "  <tbody>\n",
       "    <tr>\n",
       "      <th>0</th>\n",
       "      <td>ritz</td>\n",
       "      <td>2014</td>\n",
       "      <td>3.35</td>\n",
       "      <td>5.59</td>\n",
       "      <td>27000</td>\n",
       "      <td>2</td>\n",
       "      <td>0</td>\n",
       "      <td>1</td>\n",
       "      <td>0</td>\n",
       "    </tr>\n",
       "    <tr>\n",
       "      <th>1</th>\n",
       "      <td>sx4</td>\n",
       "      <td>2013</td>\n",
       "      <td>4.75</td>\n",
       "      <td>9.54</td>\n",
       "      <td>43000</td>\n",
       "      <td>1</td>\n",
       "      <td>0</td>\n",
       "      <td>1</td>\n",
       "      <td>0</td>\n",
       "    </tr>\n",
       "    <tr>\n",
       "      <th>2</th>\n",
       "      <td>ciaz</td>\n",
       "      <td>2017</td>\n",
       "      <td>7.25</td>\n",
       "      <td>9.85</td>\n",
       "      <td>6900</td>\n",
       "      <td>2</td>\n",
       "      <td>0</td>\n",
       "      <td>1</td>\n",
       "      <td>0</td>\n",
       "    </tr>\n",
       "    <tr>\n",
       "      <th>3</th>\n",
       "      <td>wagon r</td>\n",
       "      <td>2011</td>\n",
       "      <td>2.85</td>\n",
       "      <td>4.15</td>\n",
       "      <td>5200</td>\n",
       "      <td>2</td>\n",
       "      <td>0</td>\n",
       "      <td>1</td>\n",
       "      <td>0</td>\n",
       "    </tr>\n",
       "    <tr>\n",
       "      <th>4</th>\n",
       "      <td>swift</td>\n",
       "      <td>2014</td>\n",
       "      <td>4.60</td>\n",
       "      <td>6.87</td>\n",
       "      <td>42450</td>\n",
       "      <td>1</td>\n",
       "      <td>0</td>\n",
       "      <td>1</td>\n",
       "      <td>0</td>\n",
       "    </tr>\n",
       "    <tr>\n",
       "      <th>5</th>\n",
       "      <td>vitara brezza</td>\n",
       "      <td>2018</td>\n",
       "      <td>9.25</td>\n",
       "      <td>9.83</td>\n",
       "      <td>2071</td>\n",
       "      <td>1</td>\n",
       "      <td>0</td>\n",
       "      <td>1</td>\n",
       "      <td>0</td>\n",
       "    </tr>\n",
       "    <tr>\n",
       "      <th>6</th>\n",
       "      <td>ciaz</td>\n",
       "      <td>2015</td>\n",
       "      <td>6.75</td>\n",
       "      <td>8.12</td>\n",
       "      <td>18796</td>\n",
       "      <td>2</td>\n",
       "      <td>0</td>\n",
       "      <td>1</td>\n",
       "      <td>0</td>\n",
       "    </tr>\n",
       "    <tr>\n",
       "      <th>7</th>\n",
       "      <td>s cross</td>\n",
       "      <td>2015</td>\n",
       "      <td>6.50</td>\n",
       "      <td>8.61</td>\n",
       "      <td>33429</td>\n",
       "      <td>1</td>\n",
       "      <td>0</td>\n",
       "      <td>1</td>\n",
       "      <td>0</td>\n",
       "    </tr>\n",
       "    <tr>\n",
       "      <th>8</th>\n",
       "      <td>ciaz</td>\n",
       "      <td>2016</td>\n",
       "      <td>8.75</td>\n",
       "      <td>8.89</td>\n",
       "      <td>20273</td>\n",
       "      <td>1</td>\n",
       "      <td>0</td>\n",
       "      <td>1</td>\n",
       "      <td>0</td>\n",
       "    </tr>\n",
       "    <tr>\n",
       "      <th>9</th>\n",
       "      <td>ciaz</td>\n",
       "      <td>2015</td>\n",
       "      <td>7.45</td>\n",
       "      <td>8.92</td>\n",
       "      <td>42367</td>\n",
       "      <td>1</td>\n",
       "      <td>0</td>\n",
       "      <td>1</td>\n",
       "      <td>0</td>\n",
       "    </tr>\n",
       "  </tbody>\n",
       "</table>\n",
       "</div>"
      ],
      "text/plain": [
       "        Car_Name  Year  Selling_Price  Original_Price  Driven_kms  Fuel_Type  \\\n",
       "0           ritz  2014           3.35            5.59       27000          2   \n",
       "1            sx4  2013           4.75            9.54       43000          1   \n",
       "2           ciaz  2017           7.25            9.85        6900          2   \n",
       "3        wagon r  2011           2.85            4.15        5200          2   \n",
       "4          swift  2014           4.60            6.87       42450          1   \n",
       "5  vitara brezza  2018           9.25            9.83        2071          1   \n",
       "6           ciaz  2015           6.75            8.12       18796          2   \n",
       "7        s cross  2015           6.50            8.61       33429          1   \n",
       "8           ciaz  2016           8.75            8.89       20273          1   \n",
       "9           ciaz  2015           7.45            8.92       42367          1   \n",
       "\n",
       "   Selling_type  Transmission  Owner  \n",
       "0             0             1      0  \n",
       "1             0             1      0  \n",
       "2             0             1      0  \n",
       "3             0             1      0  \n",
       "4             0             1      0  \n",
       "5             0             1      0  \n",
       "6             0             1      0  \n",
       "7             0             1      0  \n",
       "8             0             1      0  \n",
       "9             0             1      0  "
      ]
     },
     "execution_count": 12,
     "metadata": {},
     "output_type": "execute_result"
    }
   ],
   "source": [
    "df.head(10)       "
   ]
  },
  {
   "cell_type": "code",
   "execution_count": null,
   "id": "2aef1348",
   "metadata": {},
   "outputs": [],
   "source": []
  },
  {
   "cell_type": "code",
   "execution_count": 13,
   "id": "4c3de708",
   "metadata": {},
   "outputs": [
    {
     "data": {
      "image/png": "[encoded data removed]",
      "text/plain": [
       "<Figure size 1100x700 with 1 Axes>"
      ]
     },
     "metadata": {},
     "output_type": "display_data"
    }
   ],
   "source": [
    "# Distribution of Selling Price\n",
    "plt.figure(figsize=(11, 7))\n",
    "sns.histplot(df['Selling_Price'], bins=30, kde=True)\n",
    "plt.title(\"Distribution of Selling Price\")\n",
    "plt.xlabel(\"Selling Price (Lakhs)\")\n",
    "plt.ylabel(\"Frequency\")\n",
    "plt.show()"
   ]
  },
  {
   "cell_type": "code",
   "execution_count": 14,
   "id": "47ff74ed",
   "metadata": {},
   "outputs": [
    {
     "data": {
      "image/png": "[encoded data removed]",
      "text/plain": [
       "<Figure size 1100x800 with 1 Axes>"
      ]
     },
     "metadata": {},
     "output_type": "display_data"
    }
   ],
   "source": [
    "#scatterplot btw original and selling price\n",
    "\n",
    "plt.figure(figsize=(11,8))\n",
    "sns.scatterplot(x=df['Selling_Price'] , y=df['Original_Price'] , data=df)\n",
    "plt.grid()"
   ]
  },
  {
   "cell_type": "code",
   "execution_count": 15,
   "id": "edec6671",
   "metadata": {},
   "outputs": [
    {
     "data": {
      "text/plain": [
       "<function matplotlib.pyplot.grid(visible=None, which='major', axis='both', **kwargs)>"
      ]
     },
     "execution_count": 15,
     "metadata": {},
     "output_type": "execute_result"
    },
    {
     "data": {
      "image/png": "[encoded data removed]",
      "text/plain": [
       "<Figure size 1100x800 with 1 Axes>"
      ]
     },
     "metadata": {},
     "output_type": "display_data"
    }
   ],
   "source": [
    "\n",
    "plt.figure(figsize=(11,8))\n",
    "sns.lineplot(x=df['Year'] , y=df['Original_Price'] , data=df , color=\"blue\" , label=\"ORIGINAL_PRICE\")\n",
    "sns.lineplot(x=df['Year'] , y=df['Selling_Price'] , data=df , color=\"orange\" , label=\"SELLING_PRICE\")\n",
    "plt.legend()\n",
    "plt.title(\"DIFFERENCE BETWEEN ORIGINAL VS SELLING PRICE\")\n",
    "plt.grid"
   ]
  },
  {
   "cell_type": "code",
   "execution_count": 16,
   "id": "b48b576d",
   "metadata": {},
   "outputs": [
    {
     "data": {
      "image/png": "[encoded data removed]",
      "text/plain": [
       "<Figure size 800x600 with 1 Axes>"
      ]
     },
     "metadata": {},
     "output_type": "display_data"
    }
   ],
   "source": [
    "# Box plot to see the distribution of Selling Price based on Fuel_Type\n",
    "plt.figure(figsize=(8, 6))\n",
    "sns.boxplot(x='Fuel_Type', y='Selling_Price', data=df)\n",
    "plt.title(\"Selling Price by Fuel Type\")\n",
    "plt.xlabel(\"Fuel Type (1: Diesel, 2: Petrol)\")\n",
    "plt.ylabel(\"Selling Price (Lakhs)\")\n",
    "plt.show()"
   ]
  },
  {
   "cell_type": "code",
   "execution_count": null,
   "id": "8c79d38c",
   "metadata": {},
   "outputs": [],
   "source": []
  },
  {
   "cell_type": "markdown",
   "id": "caf4518f",
   "metadata": {},
   "source": [
    "### TRAIN TEST SPLIT"
   ]
  },
  {
   "cell_type": "code",
   "execution_count": 17,
   "id": "9b721253",
   "metadata": {},
   "outputs": [
    {
     "data": {
      "text/plain": [
       "Index(['Car_Name', 'Year', 'Selling_Price', 'Original_Price', 'Driven_kms',\n",
       "       'Fuel_Type', 'Selling_type', 'Transmission', 'Owner'],\n",
       "      dtype='object')"
      ]
     },
     "execution_count": 17,
     "metadata": {},
     "output_type": "execute_result"
    }
   ],
   "source": [
    "df.columns"
   ]
  },
  {
   "cell_type": "code",
   "execution_count": 36,
   "id": "7b63682b",
   "metadata": {},
   "outputs": [],
   "source": [
    "X = df[['Year', 'Original_Price', 'Driven_kms', 'Fuel_Type', 'Selling_type', 'Transmission', 'Owner']]\n",
    "y = df[['Selling_Price']]"
   ]
  },
  {
   "cell_type": "code",
   "execution_count": 37,
   "id": "75f8df1c",
   "metadata": {},
   "outputs": [],
   "source": [
    "X_train,X_test,y_train,y_test = train_test_split(X, y , test_size=0.2 , random_state=42)"
   ]
  },
  {
   "cell_type": "code",
   "execution_count": 45,
   "id": "26698520",
   "metadata": {},
   "outputs": [
    {
     "data": {
      "text/html": [
       "<style>#sk-container-id-2 {color: black;}#sk-container-id-2 pre{padding: 0;}#sk-container-id-2 div.sk-toggleable {background-color: white;}#sk-container-id-2 label.sk-toggleable__label {cursor: pointer;display: block;width: 100%;margin-bottom: 0;padding: 0.3em;box-sizing: border-box;text-align: center;}#sk-container-id-2 label.sk-toggleable__label-arrow:before {content: \"▸\";float: left;margin-right: 0.25em;color: #696969;}#sk-container-id-2 label.sk-toggleable__label-arrow:hover:before {color: black;}#sk-container-id-2 div.sk-estimator:hover label.sk-toggleable__label-arrow:before {color: black;}#sk-container-id-2 div.sk-toggleable__content {max-height: 0;max-width: 0;overflow: hidden;text-align: left;background-color: #f0f8ff;}#sk-container-id-2 div.sk-toggleable__content pre {margin: 0.2em;color: black;border-radius: 0.25em;background-color: #f0f8ff;}#sk-container-id-2 input.sk-toggleable__control:checked~div.sk-toggleable__content {max-height: 200px;max-width: 100%;overflow: auto;}#sk-container-id-2 input.sk-toggleable__control:checked~label.sk-toggleable__label-arrow:before {content: \"▾\";}#sk-container-id-2 div.sk-estimator input.sk-toggleable__control:checked~label.sk-toggleable__label {background-color: #d4ebff;}#sk-container-id-2 div.sk-label input.sk-toggleable__control:checked~label.sk-toggleable__label {background-color: #d4ebff;}#sk-container-id-2 input.sk-hidden--visually {border: 0;clip: rect(1px 1px 1px 1px);clip: rect(1px, 1px, 1px, 1px);height: 1px;margin: -1px;overflow: hidden;padding: 0;position: absolute;width: 1px;}#sk-container-id-2 div.sk-estimator {font-family: monospace;background-color: #f0f8ff;border: 1px dotted black;border-radius: 0.25em;box-sizing: border-box;margin-bottom: 0.5em;}#sk-container-id-2 div.sk-estimator:hover {background-color: #d4ebff;}#sk-container-id-2 div.sk-parallel-item::after {content: \"\";width: 100%;border-bottom: 1px solid gray;flex-grow: 1;}#sk-container-id-2 div.sk-label:hover label.sk-toggleable__label {background-color: #d4ebff;}#sk-container-id-2 div.sk-serial::before {content: \"\";position: absolute;border-left: 1px solid gray;box-sizing: border-box;top: 0;bottom: 0;left: 50%;z-index: 0;}#sk-container-id-2 div.sk-serial {display: flex;flex-direction: column;align-items: center;background-color: white;padding-right: 0.2em;padding-left: 0.2em;position: relative;}#sk-container-id-2 div.sk-item {position: relative;z-index: 1;}#sk-container-id-2 div.sk-parallel {display: flex;align-items: stretch;justify-content: center;background-color: white;position: relative;}#sk-container-id-2 div.sk-item::before, #sk-container-id-2 div.sk-parallel-item::before {content: \"\";position: absolute;border-left: 1px solid gray;box-sizing: border-box;top: 0;bottom: 0;left: 50%;z-index: -1;}#sk-container-id-2 div.sk-parallel-item {display: flex;flex-direction: column;z-index: 1;position: relative;background-color: white;}#sk-container-id-2 div.sk-parallel-item:first-child::after {align-self: flex-end;width: 50%;}#sk-container-id-2 div.sk-parallel-item:last-child::after {align-self: flex-start;width: 50%;}#sk-container-id-2 div.sk-parallel-item:only-child::after {width: 0;}#sk-container-id-2 div.sk-dashed-wrapped {border: 1px dashed gray;margin: 0 0.4em 0.5em 0.4em;box-sizing: border-box;padding-bottom: 0.4em;background-color: white;}#sk-container-id-2 div.sk-label label {font-family: monospace;font-weight: bold;display: inline-block;line-height: 1.2em;}#sk-container-id-2 div.sk-label-container {text-align: center;}#sk-container-id-2 div.sk-container {/* jupyter's `normalize.less` sets `[hidden] { display: none; }` but bootstrap.min.css set `[hidden] { display: none !important; }` so we also need the `!important` here to be able to override the default hidden behavior on the sphinx rendered scikit-learn.org. See: https://github.com/scikit-learn/scikit-learn/issues/21755 */display: inline-block !important;position: relative;}#sk-container-id-2 div.sk-text-repr-fallback {display: none;}</style><div id=\"sk-container-id-2\" class=\"sk-top-container\"><div class=\"sk-text-repr-fallback\"><pre>LinearRegression()</pre><b>In a Jupyter environment, please rerun this cell to show the HTML representation or trust the notebook. <br />On GitHub, the HTML representation is unable to render, please try loading this page with nbviewer.org.</b></div><div class=\"sk-container\" hidden><div class=\"sk-item\"><div class=\"sk-estimator sk-toggleable\"><input class=\"sk-toggleable__control sk-hidden--visually\" id=\"sk-estimator-id-2\" type=\"checkbox\" checked><label for=\"sk-estimator-id-2\" class=\"sk-toggleable__label sk-toggleable__label-arrow\">LinearRegression</label><div class=\"sk-toggleable__content\"><pre>LinearRegression()</pre></div></div></div></div></div>"
      ],
      "text/plain": [
       "LinearRegression()"
      ]
     },
     "execution_count": 45,
     "metadata": {},
     "output_type": "execute_result"
    }
   ],
   "source": [
    "linear_model=LinearRegression()\n",
    "linear_model.fit(X_train,y_train)"
   ]
  },
  {
   "cell_type": "code",
   "execution_count": 47,
   "id": "b6a3d3ad",
   "metadata": {},
   "outputs": [
    {
     "data": {
      "text/plain": [
       "array([[ 2.96562958],\n",
       "       [ 8.30085782],\n",
       "       [ 6.05782751],\n",
       "       [-1.46736816],\n",
       "       [ 9.25705687],\n",
       "       [ 7.03171029],\n",
       "       [ 1.35032876],\n",
       "       [ 0.82691573],\n",
       "       [ 1.36987479],\n",
       "       [ 7.10758777],\n",
       "       [ 8.74146173],\n",
       "       [ 0.58642748],\n",
       "       [ 8.50459253],\n",
       "       [ 3.42661966],\n",
       "       [ 6.50292735],\n",
       "       [ 3.08732011],\n",
       "       [ 0.46492161],\n",
       "       [10.89305942],\n",
       "       [ 1.76225878],\n",
       "       [ 2.36483065],\n",
       "       [ 0.37623881],\n",
       "       [ 7.73151022],\n",
       "       [ 6.20981391],\n",
       "       [ 2.65038024],\n",
       "       [ 0.78195056],\n",
       "       [ 3.72251099],\n",
       "       [ 5.3340761 ],\n",
       "       [ 2.84078903],\n",
       "       [ 2.15815992],\n",
       "       [ 1.77018609],\n",
       "       [ 0.37934652],\n",
       "       [ 8.79022344],\n",
       "       [-0.69755203],\n",
       "       [ 2.30364091],\n",
       "       [ 8.21352459],\n",
       "       [ 4.54034656],\n",
       "       [ 7.35264949],\n",
       "       [ 7.68532992],\n",
       "       [ 2.91820641],\n",
       "       [ 8.08316508],\n",
       "       [ 4.00325157],\n",
       "       [ 4.35384555],\n",
       "       [ 4.36428366],\n",
       "       [ 0.60942277],\n",
       "       [ 6.94443091],\n",
       "       [ 0.47315352],\n",
       "       [ 7.41534765],\n",
       "       [11.442946  ],\n",
       "       [ 3.14938081],\n",
       "       [ 4.95296902],\n",
       "       [ 6.86419835],\n",
       "       [ 2.19604944],\n",
       "       [20.53785454],\n",
       "       [16.78959932],\n",
       "       [ 7.13843807],\n",
       "       [ 9.82975063],\n",
       "       [ 4.49877206],\n",
       "       [ 8.61930717],\n",
       "       [ 1.81754614],\n",
       "       [ 7.67258754],\n",
       "       [ 0.21141592]])"
      ]
     },
     "execution_count": 47,
     "metadata": {},
     "output_type": "execute_result"
    }
   ],
   "source": [
    "y_pred=linear_model.predict(X_test)\n",
    "y_pred"
   ]
  },
  {
   "cell_type": "markdown",
   "id": "89d1b194",
   "metadata": {},
   "source": [
    "### Model evaluation"
   ]
  },
  {
   "cell_type": "code",
   "execution_count": 48,
   "id": "3513bbdf",
   "metadata": {},
   "outputs": [
    {
     "name": "stdout",
     "output_type": "stream",
     "text": [
      "\n",
      "Model Performance:\n",
      "Mean Absolute Error (MAE): 1.2219323621756768\n",
      "Mean Squared Error (MSE): 3.5315798889730603\n",
      "Root Mean Squared Error (RMSE): 1.8792498207989965\n",
      "R-squared (R2): 0.8466902419661907\n"
     ]
    }
   ],
   "source": [
    "# mean_absolute_error, mean_squared_error, r2_score\n",
    "mae = mean_absolute_error(y_test, y_pred)\n",
    "mse = mean_squared_error(y_test, y_pred)\n",
    "rmse = mse ** 0.5\n",
    "r2 = r2_score(y_test, y_pred)\n",
    "\n",
    "print(\"\\nModel Performance:\")\n",
    "print(f\"Mean Absolute Error (MAE): {mae}\")\n",
    "print(f\"Mean Squared Error (MSE): {mse}\")\n",
    "print(f\"Root Mean Squared Error (RMSE): {rmse}\")\n",
    "print(f\"R-squared (R2): {r2}\")"
   ]
  },
  {
   "cell_type": "code",
   "execution_count": 49,
   "id": "7dbaac3a",
   "metadata": {},
   "outputs": [
    {
     "data": {
      "image/png": "[encoded data removed]",
      "text/plain": [
       "<Figure size 800x600 with 1 Axes>"
      ]
     },
     "metadata": {},
     "output_type": "display_data"
    }
   ],
   "source": [
    "plt.figure(figsize=(8, 6))\n",
    "plt.scatter(y_test, y_pred)\n",
    "plt.plot([y_test.min(), y_test.max()], [y_test.min(), y_test.max()], color='red', linewidth=2)\n",
    "plt.title(\"Actual vs Predicted Selling Prices\")\n",
    "plt.xlabel(\"Actual Selling Price (Lakhs)\")\n",
    "plt.ylabel(\"Predicted Selling Price (Lakhs)\")\n",
    "plt.show()"
   ]
  },
  {
   "cell_type": "code",
   "execution_count": 50,
   "id": "c27eacc8",
   "metadata": {},
   "outputs": [
    {
     "name": "stdout",
     "output_type": "stream",
     "text": [
      "     Year  Original_Price  Driven_kms  Fuel_Type  Selling_type  Transmission  \\\n",
      "177  2016            0.57       24000          2             1             0   \n",
      "289  2016           13.60       10980          2             0             1   \n",
      "228  2012            9.40       60000          1             0             1   \n",
      "198  2011            0.57       35000          2             1             1   \n",
      "60   2013           18.61       40001          2             0             1   \n",
      "\n",
      "     Owner  Predicted_Price  Actual_Price  \n",
      "177      0         2.965630          0.35  \n",
      "289      0         8.300858         10.11  \n",
      "228      0         6.057828          4.95  \n",
      "198      1        -1.467368          0.15  \n",
      "60       0         9.257057          6.95  \n"
     ]
    }
   ],
   "source": [
    "\n",
    "# Assuming X_test is a DataFrame with a column like 'Car_Name' (or similar identifier)\n",
    "X_test_copy = X_test.copy()  # Make a copy to avoid modifying the original data\n",
    "\n",
    "# Add predicted prices to the test set\n",
    "X_test_copy['Predicted_Price'] = y_pred\n",
    "\n",
    "# If you also want the actual prices (from y_test), you can add those as well\n",
    "X_test_copy['Actual_Price'] = y_test\n",
    "\n",
    "# Display the test set with predictions\n",
    "print(X_test_copy.head())\n"
   ]
  },
  {
   "cell_type": "code",
   "execution_count": null,
   "id": "d7c13fac",
   "metadata": {},
   "outputs": [],
   "source": []
  },
  {
   "cell_type": "code",
   "execution_count": null,
   "id": "815a0a0d",
   "metadata": {},
   "outputs": [],
   "source": []
  }
 ],
 "metadata": {
  "kernelspec": {
   "display_name": "Python 3 (ipykernel)",
   "language": "python",
   "name": "python3"
  },
  "language_info": {
   "codemirror_mode": {
    "name": "ipython",
    "version": 3
   },
   "file_extension": ".py",
   "mimetype": "text/x-python",
   "name": "python",
   "nbconvert_exporter": "python",
   "pygments_lexer": "ipython3",
   "version": "3.11.5"
  }
 },
 "nbformat": 4,
 "nbformat_minor": 5
}
